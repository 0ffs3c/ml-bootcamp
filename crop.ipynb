{
  "nbformat": 4,
  "nbformat_minor": 0,
  "metadata": {
    "colab": {
      "name": "crop.ipynb",
      "provenance": [],
      "authorship_tag": "ABX9TyPMD3fWtbS6ccJoh1UMYPpU",
      "include_colab_link": true
    },
    "kernelspec": {
      "name": "python3",
      "display_name": "Python 3"
    },
    "language_info": {
      "name": "python"
    },
    "accelerator": "GPU"
  },
  "cells": [
    {
      "cell_type": "markdown",
      "metadata": {
        "id": "view-in-github",
        "colab_type": "text"
      },
      "source": [
        "<a href=\"https://colab.research.google.com/github/0ffs3c/ml-bootcamp/blob/main/crop.ipynb\" target=\"_parent\"><img src=\"https://colab.research.google.com/assets/colab-badge.svg\" alt=\"Open In Colab\"/></a>"
      ]
    },
    {
      "cell_type": "code",
      "metadata": {
        "colab": {
          "base_uri": "https://localhost:8080/",
          "height": 204
        },
        "id": "n_WotwWWaV18",
        "outputId": "d1e3eb1a-11aa-4c12-d2df-e12c8527e090"
      },
      "source": [
        "import pandas as pd\n",
        "data = pd.read_csv('crop.csv')\n",
        "data.head()"
      ],
      "execution_count": 26,
      "outputs": [
        {
          "output_type": "execute_result",
          "data": {
            "text/html": [
              "<div>\n",
              "<style scoped>\n",
              "    .dataframe tbody tr th:only-of-type {\n",
              "        vertical-align: middle;\n",
              "    }\n",
              "\n",
              "    .dataframe tbody tr th {\n",
              "        vertical-align: top;\n",
              "    }\n",
              "\n",
              "    .dataframe thead th {\n",
              "        text-align: right;\n",
              "    }\n",
              "</style>\n",
              "<table border=\"1\" class=\"dataframe\">\n",
              "  <thead>\n",
              "    <tr style=\"text-align: right;\">\n",
              "      <th></th>\n",
              "      <th>N</th>\n",
              "      <th>P</th>\n",
              "      <th>K</th>\n",
              "      <th>temperature</th>\n",
              "      <th>humidity</th>\n",
              "      <th>ph</th>\n",
              "      <th>rainfall</th>\n",
              "      <th>label</th>\n",
              "    </tr>\n",
              "  </thead>\n",
              "  <tbody>\n",
              "    <tr>\n",
              "      <th>0</th>\n",
              "      <td>90</td>\n",
              "      <td>42</td>\n",
              "      <td>43</td>\n",
              "      <td>20.879744</td>\n",
              "      <td>82.002744</td>\n",
              "      <td>6.502985</td>\n",
              "      <td>202.935536</td>\n",
              "      <td>rice</td>\n",
              "    </tr>\n",
              "    <tr>\n",
              "      <th>1</th>\n",
              "      <td>85</td>\n",
              "      <td>58</td>\n",
              "      <td>41</td>\n",
              "      <td>21.770462</td>\n",
              "      <td>80.319644</td>\n",
              "      <td>7.038096</td>\n",
              "      <td>226.655537</td>\n",
              "      <td>rice</td>\n",
              "    </tr>\n",
              "    <tr>\n",
              "      <th>2</th>\n",
              "      <td>60</td>\n",
              "      <td>55</td>\n",
              "      <td>44</td>\n",
              "      <td>23.004459</td>\n",
              "      <td>82.320763</td>\n",
              "      <td>7.840207</td>\n",
              "      <td>263.964248</td>\n",
              "      <td>rice</td>\n",
              "    </tr>\n",
              "    <tr>\n",
              "      <th>3</th>\n",
              "      <td>74</td>\n",
              "      <td>35</td>\n",
              "      <td>40</td>\n",
              "      <td>26.491096</td>\n",
              "      <td>80.158363</td>\n",
              "      <td>6.980401</td>\n",
              "      <td>242.864034</td>\n",
              "      <td>rice</td>\n",
              "    </tr>\n",
              "    <tr>\n",
              "      <th>4</th>\n",
              "      <td>78</td>\n",
              "      <td>42</td>\n",
              "      <td>42</td>\n",
              "      <td>20.130175</td>\n",
              "      <td>81.604873</td>\n",
              "      <td>7.628473</td>\n",
              "      <td>262.717340</td>\n",
              "      <td>rice</td>\n",
              "    </tr>\n",
              "  </tbody>\n",
              "</table>\n",
              "</div>"
            ],
            "text/plain": [
              "    N   P   K  temperature   humidity        ph    rainfall label\n",
              "0  90  42  43    20.879744  82.002744  6.502985  202.935536  rice\n",
              "1  85  58  41    21.770462  80.319644  7.038096  226.655537  rice\n",
              "2  60  55  44    23.004459  82.320763  7.840207  263.964248  rice\n",
              "3  74  35  40    26.491096  80.158363  6.980401  242.864034  rice\n",
              "4  78  42  42    20.130175  81.604873  7.628473  262.717340  rice"
            ]
          },
          "metadata": {},
          "execution_count": 26
        }
      ]
    },
    {
      "cell_type": "code",
      "metadata": {
        "id": "dHikFvV8cxRU"
      },
      "source": [
        "X = data.iloc[:, 0:7].values\n",
        "Y = data.iloc[:, -1].values"
      ],
      "execution_count": 27,
      "outputs": []
    },
    {
      "cell_type": "code",
      "metadata": {
        "colab": {
          "base_uri": "https://localhost:8080/"
        },
        "id": "FX220lB7e7HW",
        "outputId": "526743a7-2fb7-4b28-eca0-2a5a4431f3c1"
      },
      "source": [
        "k = pd.get_dummies(data.label)\n",
        "y = k.values\n",
        "y"
      ],
      "execution_count": 28,
      "outputs": [
        {
          "output_type": "execute_result",
          "data": {
            "text/plain": [
              "array([[0, 0, 0, ..., 0, 1, 0],\n",
              "       [0, 0, 0, ..., 0, 1, 0],\n",
              "       [0, 0, 0, ..., 0, 1, 0],\n",
              "       ...,\n",
              "       [0, 0, 0, ..., 0, 0, 0],\n",
              "       [0, 0, 0, ..., 0, 0, 0],\n",
              "       [0, 0, 0, ..., 0, 0, 0]], dtype=uint8)"
            ]
          },
          "metadata": {},
          "execution_count": 28
        }
      ]
    },
    {
      "cell_type": "code",
      "metadata": {
        "colab": {
          "base_uri": "https://localhost:8080/"
        },
        "id": "ucYRWprugwIV",
        "outputId": "a7de1aa6-a035-4c19-ad12-3d9248008d3d"
      },
      "source": [
        "from sklearn.preprocessing import StandardScaler\n",
        "scaler = StandardScaler()\n",
        "X = scaler.fit_transform(X)\n",
        "X"
      ],
      "execution_count": 29,
      "outputs": [
        {
          "output_type": "execute_result",
          "data": {
            "text/plain": [
              "array([[ 1.0687974 , -0.34455075, -0.1016875 , ...,  0.47266646,\n",
              "         0.04330173,  1.8103605 ],\n",
              "       [ 0.93332887,  0.14061552, -0.14118477, ...,  0.39705125,\n",
              "         0.73487256,  2.24205791],\n",
              "       [ 0.25598625,  0.04964684, -0.08193887, ...,  0.48695381,\n",
              "         1.77151047,  2.92106603],\n",
              "       ...,\n",
              "       [ 1.82742114, -0.61745677, -0.35841972, ..., -0.19123516,\n",
              "        -0.13812031,  1.27141766],\n",
              "       [ 1.80032743, -0.64777967, -0.27942519, ..., -0.86951801,\n",
              "         0.37390383,  0.43154519],\n",
              "       [ 1.44810927, -1.07230015, -0.35841972, ..., -0.49802006,\n",
              "         0.40109573,  0.68200518]])"
            ]
          },
          "metadata": {},
          "execution_count": 29
        }
      ]
    },
    {
      "cell_type": "code",
      "metadata": {
        "id": "6rNZXnaEhYoW"
      },
      "source": [
        "from sklearn.model_selection import train_test_split\n",
        "X_train, X_test, Y_train, Y_test = train_test_split(X, Y, test_size = 0.2)"
      ],
      "execution_count": 30,
      "outputs": []
    },
    {
      "cell_type": "code",
      "metadata": {
        "colab": {
          "base_uri": "https://localhost:8080/"
        },
        "id": "5uB1gnQSi1ve",
        "outputId": "50134194-26f3-4c21-e020-dba0283dc8ad"
      },
      "source": [
        "from sklearn.neighbors import KNeighborsClassifier\n",
        "classifier = KNeighborsClassifier(n_neighbors = 5)\n",
        "classifier.fit(X_train, Y_train)\n",
        "Y_pred = classifier.predict(X_test)\n",
        "Y_pred"
      ],
      "execution_count": 31,
      "outputs": [
        {
          "output_type": "execute_result",
          "data": {
            "text/plain": [
              "array(['coconut', 'maize', 'maize', 'mango', 'mungbean', 'coconut',\n",
              "       'mothbeans', 'watermelon', 'chickpea', 'watermelon', 'orange',\n",
              "       'pomegranate', 'kidneybeans', 'pigeonpeas', 'mungbean',\n",
              "       'watermelon', 'papaya', 'kidneybeans', 'grapes', 'mothbeans',\n",
              "       'muskmelon', 'pigeonpeas', 'coconut', 'mango', 'banana',\n",
              "       'blackgram', 'apple', 'pomegranate', 'watermelon', 'banana',\n",
              "       'jute', 'mango', 'cotton', 'rice', 'jute', 'muskmelon',\n",
              "       'mothbeans', 'watermelon', 'lentil', 'mothbeans', 'coffee',\n",
              "       'mothbeans', 'mothbeans', 'coffee', 'grapes', 'muskmelon', 'rice',\n",
              "       'chickpea', 'rice', 'watermelon', 'blackgram', 'maize', 'coffee',\n",
              "       'mango', 'orange', 'muskmelon', 'jute', 'pigeonpeas', 'coffee',\n",
              "       'coffee', 'papaya', 'pomegranate', 'apple', 'mungbean', 'coffee',\n",
              "       'maize', 'apple', 'chickpea', 'mothbeans', 'mothbeans', 'banana',\n",
              "       'jute', 'mothbeans', 'orange', 'chickpea', 'orange', 'orange',\n",
              "       'papaya', 'papaya', 'muskmelon', 'grapes', 'coffee', 'kidneybeans',\n",
              "       'coconut', 'orange', 'banana', 'mothbeans', 'grapes', 'grapes',\n",
              "       'papaya', 'kidneybeans', 'pigeonpeas', 'blackgram', 'orange',\n",
              "       'rice', 'apple', 'blackgram', 'pigeonpeas', 'jute', 'pomegranate',\n",
              "       'jute', 'pomegranate', 'coffee', 'rice', 'grapes', 'coffee',\n",
              "       'jute', 'mango', 'chickpea', 'muskmelon', 'pomegranate', 'jute',\n",
              "       'muskmelon', 'orange', 'mango', 'watermelon', 'mothbeans',\n",
              "       'mothbeans', 'banana', 'apple', 'cotton', 'jute', 'lentil',\n",
              "       'banana', 'mungbean', 'watermelon', 'orange', 'mungbean', 'coffee',\n",
              "       'chickpea', 'muskmelon', 'lentil', 'kidneybeans', 'papaya',\n",
              "       'apple', 'lentil', 'grapes', 'coconut', 'mango', 'kidneybeans',\n",
              "       'grapes', 'mango', 'jute', 'watermelon', 'watermelon', 'chickpea',\n",
              "       'chickpea', 'blackgram', 'cotton', 'rice', 'pigeonpeas', 'rice',\n",
              "       'mungbean', 'kidneybeans', 'lentil', 'cotton', 'grapes', 'mango',\n",
              "       'rice', 'jute', 'grapes', 'jute', 'grapes', 'maize', 'muskmelon',\n",
              "       'apple', 'mango', 'jute', 'muskmelon', 'blackgram', 'muskmelon',\n",
              "       'maize', 'kidneybeans', 'mango', 'orange', 'jute', 'kidneybeans',\n",
              "       'jute', 'papaya', 'cotton', 'mungbean', 'pomegranate', 'blackgram',\n",
              "       'banana', 'jute', 'cotton', 'kidneybeans', 'maize', 'mango',\n",
              "       'grapes', 'grapes', 'muskmelon', 'coconut', 'mothbeans', 'mango',\n",
              "       'apple', 'cotton', 'apple', 'coffee', 'apple', 'maize', 'jute',\n",
              "       'maize', 'rice', 'rice', 'blackgram', 'coconut', 'mango',\n",
              "       'coconut', 'jute', 'mango', 'mungbean', 'cotton', 'blackgram',\n",
              "       'lentil', 'rice', 'watermelon', 'muskmelon', 'maize', 'maize',\n",
              "       'grapes', 'muskmelon', 'cotton', 'pomegranate', 'mango',\n",
              "       'watermelon', 'kidneybeans', 'mungbean', 'blackgram', 'watermelon',\n",
              "       'chickpea', 'mango', 'coconut', 'banana', 'pigeonpeas', 'rice',\n",
              "       'rice', 'jute', 'blackgram', 'mango', 'jute', 'chickpea', 'lentil',\n",
              "       'coconut', 'mothbeans', 'chickpea', 'coconut', 'chickpea',\n",
              "       'papaya', 'cotton', 'pomegranate', 'pomegranate', 'mango', 'rice',\n",
              "       'rice', 'pigeonpeas', 'muskmelon', 'coconut', 'banana', 'lentil',\n",
              "       'mango', 'pomegranate', 'kidneybeans', 'coffee', 'mothbeans',\n",
              "       'lentil', 'coffee', 'maize', 'pomegranate', 'orange', 'mungbean',\n",
              "       'banana', 'watermelon', 'apple', 'lentil', 'jute', 'orange',\n",
              "       'pomegranate', 'kidneybeans', 'coffee', 'cotton', 'chickpea',\n",
              "       'banana', 'papaya', 'kidneybeans', 'chickpea', 'mungbean',\n",
              "       'lentil', 'lentil', 'pomegranate', 'muskmelon', 'coffee', 'rice',\n",
              "       'blackgram', 'orange', 'grapes', 'mango', 'pigeonpeas', 'mango',\n",
              "       'muskmelon', 'mango', 'orange', 'chickpea', 'chickpea', 'coffee',\n",
              "       'cotton', 'mothbeans', 'kidneybeans', 'coffee', 'jute',\n",
              "       'pomegranate', 'orange', 'muskmelon', 'mungbean', 'jute', 'orange',\n",
              "       'coffee', 'blackgram', 'pomegranate', 'mungbean', 'jute', 'maize',\n",
              "       'pigeonpeas', 'maize', 'kidneybeans', 'jute', 'pomegranate',\n",
              "       'lentil', 'banana', 'kidneybeans', 'kidneybeans', 'mango',\n",
              "       'pigeonpeas', 'pomegranate', 'papaya', 'coconut', 'papaya',\n",
              "       'orange', 'watermelon', 'mungbean', 'mothbeans', 'chickpea',\n",
              "       'kidneybeans', 'maize', 'chickpea', 'chickpea', 'mungbean',\n",
              "       'muskmelon', 'blackgram', 'apple', 'mungbean', 'coffee',\n",
              "       'chickpea', 'lentil', 'jute', 'maize', 'cotton', 'watermelon',\n",
              "       'pigeonpeas', 'lentil', 'mungbean', 'chickpea', 'banana', 'cotton',\n",
              "       'cotton', 'jute', 'lentil', 'coffee', 'chickpea', 'banana',\n",
              "       'blackgram', 'papaya', 'muskmelon', 'maize', 'rice', 'pigeonpeas',\n",
              "       'orange', 'pigeonpeas', 'banana', 'chickpea', 'banana',\n",
              "       'watermelon', 'pigeonpeas', 'papaya', 'muskmelon', 'coffee',\n",
              "       'orange', 'banana', 'banana', 'pigeonpeas', 'mungbean',\n",
              "       'blackgram', 'papaya', 'rice', 'coconut', 'mango', 'jute', 'maize',\n",
              "       'cotton', 'kidneybeans', 'pigeonpeas', 'cotton', 'orange',\n",
              "       'lentil', 'coffee', 'kidneybeans', 'lentil', 'jute', 'mungbean',\n",
              "       'mothbeans', 'papaya', 'pigeonpeas', 'orange', 'apple', 'maize',\n",
              "       'kidneybeans', 'apple', 'chickpea', 'coffee', 'chickpea',\n",
              "       'blackgram', 'coffee', 'mothbeans', 'papaya', 'kidneybeans',\n",
              "       'maize', 'rice', 'grapes', 'mungbean', 'coffee', 'lentil',\n",
              "       'pigeonpeas', 'banana', 'coffee', 'cotton', 'pigeonpeas', 'orange',\n",
              "       'jute', 'pigeonpeas', 'watermelon'], dtype=object)"
            ]
          },
          "metadata": {},
          "execution_count": 31
        }
      ]
    },
    {
      "cell_type": "code",
      "metadata": {
        "colab": {
          "base_uri": "https://localhost:8080/"
        },
        "id": "fGsg2jpfkPjP",
        "outputId": "12f9135b-4b34-44d3-b69e-bf03050656a7"
      },
      "source": [
        "from sklearn.metrics import accuracy_score\n",
        "print(accuracy_score(Y_test, Y_pred))"
      ],
      "execution_count": 32,
      "outputs": [
        {
          "output_type": "stream",
          "name": "stdout",
          "text": [
            "0.9727272727272728\n"
          ]
        }
      ]
    },
    {
      "cell_type": "code",
      "metadata": {
        "colab": {
          "base_uri": "https://localhost:8080/"
        },
        "id": "HGKD5LpzlWYI",
        "outputId": "cb008965-8aa1-46f1-c537-392bd77e14ce"
      },
      "source": [
        "from flask import Flask, render_template, request\n",
        "from flask_ngrok import run_with_ngrok\n",
        "app = Flask(__name__)\n",
        "run_with_ngrok(app)\n",
        "@app.route('/')\n",
        "def index():\n",
        "  return render_template('index.html')\n",
        "\n",
        "@app.route('/predict', methods=['POST'])\n",
        "def collect_data():\n",
        "\n",
        "  n = float(request.form['n'])\n",
        "  p = float(request.form['p'])\n",
        "  k = float(request.form['k'])\n",
        "  temp = float(request.form['temp'])\n",
        "  hum = float(request.form['humidity'])\n",
        "  ph = float(request.form['ph'])\n",
        "  rf = float(request.form['rainfall'])\n",
        "  pre = classifier.predict([[n,p,k,temp,hum,ph,rf]])[0]\n",
        "  #print(pre)\n",
        "  return render_template('index.html', predict = pre)\n",
        "\n",
        "if __name__ == '__main__':\n",
        "  app.run()\n"
      ],
      "execution_count": null,
      "outputs": [
        {
          "output_type": "stream",
          "name": "stdout",
          "text": [
            " * Serving Flask app \"__main__\" (lazy loading)\n",
            " * Environment: production\n",
            "\u001b[31m   WARNING: This is a development server. Do not use it in a production deployment.\u001b[0m\n",
            "\u001b[2m   Use a production WSGI server instead.\u001b[0m\n",
            " * Debug mode: off\n"
          ]
        },
        {
          "output_type": "stream",
          "name": "stderr",
          "text": [
            " * Running on http://127.0.0.1:5000/ (Press CTRL+C to quit)\n"
          ]
        },
        {
          "output_type": "stream",
          "name": "stdout",
          "text": [
            " * Running on http://d099-35-201-207-110.ngrok.io\n",
            " * Traffic stats available on http://127.0.0.1:4040\n"
          ]
        },
        {
          "output_type": "stream",
          "name": "stderr",
          "text": [
            "127.0.0.1 - - [12/Nov/2021 10:51:36] \"\u001b[37mGET / HTTP/1.1\u001b[0m\" 200 -\n",
            "127.0.0.1 - - [12/Nov/2021 10:51:37] \"\u001b[33mGET /favicon.ico HTTP/1.1\u001b[0m\" 404 -\n"
          ]
        }
      ]
    }
  ]
}