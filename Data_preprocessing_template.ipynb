{
  "nbformat": 4,
  "nbformat_minor": 0,
  "metadata": {
    "colab": {
      "name": "Data-preprocessing_template.ipynb",
      "provenance": [],
      "collapsed_sections": [],
      "authorship_tag": "ABX9TyO2lFVwk3/hzwgfVDk5Wiyh",
      "include_colab_link": true
    },
    "kernelspec": {
      "name": "python3",
      "display_name": "Python 3"
    },
    "language_info": {
      "name": "python"
    }
  },
  "cells": [
    {
      "cell_type": "markdown",
      "metadata": {
        "id": "view-in-github",
        "colab_type": "text"
      },
      "source": [
        "<a href=\"https://colab.research.google.com/github/0ffs3c/python-git/blob/main/Data_preprocessing_template.ipynb\" target=\"_parent\"><img src=\"https://colab.research.google.com/assets/colab-badge.svg\" alt=\"Open In Colab\"/></a>"
      ]
    },
    {
      "cell_type": "markdown",
      "metadata": {
        "id": "dz_z1v8Zqwcx"
      },
      "source": [
        "# **Step - 1** : Import Data from csv\n",
        "\n"
      ]
    },
    {
      "cell_type": "code",
      "metadata": {
        "colab": {
          "base_uri": "https://localhost:8080/",
          "height": 0
        },
        "id": "xWMvPDacec9S",
        "outputId": "22ea7c38-e226-4765-a98c-5f8091d088af"
      },
      "source": [
        "import pandas as pd\n",
        "data = pd.read_csv('Data.csv')\n",
        "data.head()\n"
      ],
      "execution_count": 48,
      "outputs": [
        {
          "output_type": "execute_result",
          "data": {
            "text/html": [
              "<div>\n",
              "<style scoped>\n",
              "    .dataframe tbody tr th:only-of-type {\n",
              "        vertical-align: middle;\n",
              "    }\n",
              "\n",
              "    .dataframe tbody tr th {\n",
              "        vertical-align: top;\n",
              "    }\n",
              "\n",
              "    .dataframe thead th {\n",
              "        text-align: right;\n",
              "    }\n",
              "</style>\n",
              "<table border=\"1\" class=\"dataframe\">\n",
              "  <thead>\n",
              "    <tr style=\"text-align: right;\">\n",
              "      <th></th>\n",
              "      <th>Country</th>\n",
              "      <th>Age</th>\n",
              "      <th>Salary</th>\n",
              "      <th>Purchased</th>\n",
              "    </tr>\n",
              "  </thead>\n",
              "  <tbody>\n",
              "    <tr>\n",
              "      <th>0</th>\n",
              "      <td>France</td>\n",
              "      <td>44.0</td>\n",
              "      <td>72000.0</td>\n",
              "      <td>No</td>\n",
              "    </tr>\n",
              "    <tr>\n",
              "      <th>1</th>\n",
              "      <td>Spain</td>\n",
              "      <td>27.0</td>\n",
              "      <td>48000.0</td>\n",
              "      <td>Yes</td>\n",
              "    </tr>\n",
              "    <tr>\n",
              "      <th>2</th>\n",
              "      <td>Germany</td>\n",
              "      <td>30.0</td>\n",
              "      <td>54000.0</td>\n",
              "      <td>No</td>\n",
              "    </tr>\n",
              "    <tr>\n",
              "      <th>3</th>\n",
              "      <td>Spain</td>\n",
              "      <td>38.0</td>\n",
              "      <td>61000.0</td>\n",
              "      <td>No</td>\n",
              "    </tr>\n",
              "    <tr>\n",
              "      <th>4</th>\n",
              "      <td>Germany</td>\n",
              "      <td>40.0</td>\n",
              "      <td>NaN</td>\n",
              "      <td>Yes</td>\n",
              "    </tr>\n",
              "  </tbody>\n",
              "</table>\n",
              "</div>"
            ],
            "text/plain": [
              "   Country   Age   Salary Purchased\n",
              "0   France  44.0  72000.0        No\n",
              "1    Spain  27.0  48000.0       Yes\n",
              "2  Germany  30.0  54000.0        No\n",
              "3    Spain  38.0  61000.0        No\n",
              "4  Germany  40.0      NaN       Yes"
            ]
          },
          "metadata": {},
          "execution_count": 48
        }
      ]
    },
    {
      "cell_type": "code",
      "metadata": {
        "colab": {
          "base_uri": "https://localhost:8080/"
        },
        "id": "DdHTe1Oina2G",
        "outputId": "0d6bcf5b-0df3-4893-d6b6-a74ca60c2ad5"
      },
      "source": [
        "data.columns"
      ],
      "execution_count": 49,
      "outputs": [
        {
          "output_type": "execute_result",
          "data": {
            "text/plain": [
              "Index(['Country', 'Age', 'Salary', 'Purchased'], dtype='object')"
            ]
          },
          "metadata": {},
          "execution_count": 49
        }
      ]
    },
    {
      "cell_type": "code",
      "metadata": {
        "colab": {
          "base_uri": "https://localhost:8080/"
        },
        "id": "l60xvwPDpK5W",
        "outputId": "ed0b32f0-f93a-401e-b16b-486be63ad1a9"
      },
      "source": [
        "data['Country']"
      ],
      "execution_count": 50,
      "outputs": [
        {
          "output_type": "execute_result",
          "data": {
            "text/plain": [
              "0     France\n",
              "1      Spain\n",
              "2    Germany\n",
              "3      Spain\n",
              "4    Germany\n",
              "5     France\n",
              "6      Spain\n",
              "7     France\n",
              "8    Germany\n",
              "9     France\n",
              "Name: Country, dtype: object"
            ]
          },
          "metadata": {},
          "execution_count": 50
        }
      ]
    },
    {
      "cell_type": "code",
      "metadata": {
        "colab": {
          "base_uri": "https://localhost:8080/"
        },
        "id": "Bcmk_IHHpZwn",
        "outputId": "786750db-8bb1-4092-a247-738fd513f05c"
      },
      "source": [
        "data['Age'][3]"
      ],
      "execution_count": 51,
      "outputs": [
        {
          "output_type": "execute_result",
          "data": {
            "text/plain": [
              "38.0"
            ]
          },
          "metadata": {},
          "execution_count": 51
        }
      ]
    },
    {
      "cell_type": "markdown",
      "metadata": {
        "id": "hTe-iXETramJ"
      },
      "source": [
        "# **Step - 2** : Separate both i/p & o/p\n"
      ]
    },
    {
      "cell_type": "markdown",
      "metadata": {
        "id": "paRSt5PyFKHT"
      },
      "source": [
        "## Independent Variables - Country, Age, Salary "
      ]
    },
    {
      "cell_type": "code",
      "metadata": {
        "colab": {
          "base_uri": "https://localhost:8080/"
        },
        "id": "ABj2vJAXsKOh",
        "outputId": "32badb53-b441-4fc6-a1d4-6ca25f989dd7"
      },
      "source": [
        "X = data.iloc[:,0:3].values\n",
        "print(X)"
      ],
      "execution_count": 52,
      "outputs": [
        {
          "output_type": "stream",
          "name": "stdout",
          "text": [
            "[['France' 44.0 72000.0]\n",
            " ['Spain' 27.0 48000.0]\n",
            " ['Germany' 30.0 54000.0]\n",
            " ['Spain' 38.0 61000.0]\n",
            " ['Germany' 40.0 nan]\n",
            " ['France' 35.0 58000.0]\n",
            " ['Spain' nan 52000.0]\n",
            " ['France' 48.0 79000.0]\n",
            " ['Germany' 50.0 83000.0]\n",
            " ['France' 37.0 67000.0]]\n"
          ]
        }
      ]
    },
    {
      "cell_type": "markdown",
      "metadata": {
        "id": "2X7v5fpPtwKM"
      },
      "source": [
        "## Dependent Variables - Purchased"
      ]
    },
    {
      "cell_type": "code",
      "metadata": {
        "colab": {
          "base_uri": "https://localhost:8080/"
        },
        "id": "B5nuNy8ns_dJ",
        "outputId": "f4a585a0-d6e5-4f5a-be1e-40c9db4a2b2a"
      },
      "source": [
        "Y = data.iloc[:, -1].values\n",
        "print(Y)"
      ],
      "execution_count": 53,
      "outputs": [
        {
          "output_type": "stream",
          "name": "stdout",
          "text": [
            "['No' 'Yes' 'No' 'No' 'Yes' 'Yes' 'No' 'Yes' 'No' 'Yes']\n"
          ]
        }
      ]
    },
    {
      "cell_type": "markdown",
      "metadata": {
        "id": "wGJPo6n6uoHx"
      },
      "source": [
        "# **Step - 3** : Handle Missing Data"
      ]
    },
    {
      "cell_type": "code",
      "metadata": {
        "colab": {
          "base_uri": "https://localhost:8080/"
        },
        "id": "EVaHgNhcuzuy",
        "outputId": "54e88c85-8807-4625-8cee-e2ac2af46cd2"
      },
      "source": [
        "print(data.isna())"
      ],
      "execution_count": 54,
      "outputs": [
        {
          "output_type": "stream",
          "name": "stdout",
          "text": [
            "   Country    Age  Salary  Purchased\n",
            "0    False  False   False      False\n",
            "1    False  False   False      False\n",
            "2    False  False   False      False\n",
            "3    False  False   False      False\n",
            "4    False  False    True      False\n",
            "5    False  False   False      False\n",
            "6    False   True   False      False\n",
            "7    False  False   False      False\n",
            "8    False  False   False      False\n",
            "9    False  False   False      False\n"
          ]
        }
      ]
    },
    {
      "cell_type": "code",
      "metadata": {
        "colab": {
          "base_uri": "https://localhost:8080/"
        },
        "id": "f6wJp2lxu77p",
        "outputId": "8da75be5-e2f0-4b0b-85be-eb339d2bc52d"
      },
      "source": [
        "from sklearn.impute import SimpleImputer\n",
        "import numpy as np\n",
        "imputer = SimpleImputer(missing_values=np.nan, strategy=\"mean\")\n",
        "X[:,1:3]=imputer.fit_transform(X[:, 1:3])\n",
        "print(X)"
      ],
      "execution_count": 55,
      "outputs": [
        {
          "output_type": "stream",
          "name": "stdout",
          "text": [
            "[['France' 44.0 72000.0]\n",
            " ['Spain' 27.0 48000.0]\n",
            " ['Germany' 30.0 54000.0]\n",
            " ['Spain' 38.0 61000.0]\n",
            " ['Germany' 40.0 63777.77777777778]\n",
            " ['France' 35.0 58000.0]\n",
            " ['Spain' 38.77777777777778 52000.0]\n",
            " ['France' 48.0 79000.0]\n",
            " ['Germany' 50.0 83000.0]\n",
            " ['France' 37.0 67000.0]]\n"
          ]
        }
      ]
    },
    {
      "cell_type": "code",
      "metadata": {
        "id": "ZSyFV9LAD08B"
      },
      "source": [
        ""
      ],
      "execution_count": 55,
      "outputs": []
    },
    {
      "cell_type": "markdown",
      "metadata": {
        "id": "JzjtgjZpEpvC"
      },
      "source": [
        "# **Step - 4** : Handle Categorical Data"
      ]
    },
    {
      "cell_type": "markdown",
      "metadata": {
        "id": "1YtCS9lhFSHS"
      },
      "source": [
        "## Independent Variable at index 0"
      ]
    },
    {
      "cell_type": "code",
      "metadata": {
        "colab": {
          "base_uri": "https://localhost:8080/"
        },
        "id": "lQPiRK10FaeB",
        "outputId": "3372f39c-27f2-46e9-e7c4-a132a9f91d61"
      },
      "source": [
        "from sklearn.compose import ColumnTransformer\n",
        "from sklearn .preprocessing import OneHotEncoder\n",
        "composer = ColumnTransformer(transformers=[('encoder', OneHotEncoder(),[0])], remainder='passthrough')\n",
        "X = composer.fit_transform(X)\n",
        "print(X)"
      ],
      "execution_count": 56,
      "outputs": [
        {
          "output_type": "stream",
          "name": "stdout",
          "text": [
            "[[1.0 0.0 0.0 44.0 72000.0]\n",
            " [0.0 0.0 1.0 27.0 48000.0]\n",
            " [0.0 1.0 0.0 30.0 54000.0]\n",
            " [0.0 0.0 1.0 38.0 61000.0]\n",
            " [0.0 1.0 0.0 40.0 63777.77777777778]\n",
            " [1.0 0.0 0.0 35.0 58000.0]\n",
            " [0.0 0.0 1.0 38.77777777777778 52000.0]\n",
            " [1.0 0.0 0.0 48.0 79000.0]\n",
            " [0.0 1.0 0.0 50.0 83000.0]\n",
            " [1.0 0.0 0.0 37.0 67000.0]]\n"
          ]
        }
      ]
    },
    {
      "cell_type": "markdown",
      "metadata": {
        "id": "_dUaSoaVIVEf"
      },
      "source": [
        "## Dependent Variable "
      ]
    },
    {
      "cell_type": "code",
      "metadata": {
        "colab": {
          "base_uri": "https://localhost:8080/"
        },
        "id": "u-mfRFBJIbTh",
        "outputId": "7cfb5312-2adf-40c6-eb24-8553ef56f51e"
      },
      "source": [
        "from sklearn.preprocessing import LabelEncoder\n",
        "le = LabelEncoder()\n",
        "Y = le.fit_transform(Y)\n",
        "print(Y)"
      ],
      "execution_count": 57,
      "outputs": [
        {
          "output_type": "stream",
          "name": "stdout",
          "text": [
            "[0 1 0 0 1 1 0 1 0 1]\n"
          ]
        }
      ]
    },
    {
      "cell_type": "markdown",
      "metadata": {
        "id": "Y1DggRPfKAml"
      },
      "source": [
        "# **Step - 5** : Feature Scaling"
      ]
    },
    {
      "cell_type": "code",
      "metadata": {
        "colab": {
          "base_uri": "https://localhost:8080/"
        },
        "id": "U52MxsVKKkiT",
        "outputId": "22ad4db9-ea1d-4e7a-eb3c-428ee34789bb"
      },
      "source": [
        "from sklearn.preprocessing import StandardScaler\n",
        "scaler = StandardScaler()\n",
        "X[:,3:5] = scaler.fit_transform(X[:,3:5])\n",
        "print(X)"
      ],
      "execution_count": 58,
      "outputs": [
        {
          "output_type": "stream",
          "name": "stdout",
          "text": [
            "[[1.0 0.0 0.0 0.758874361590019 0.7494732544921677]\n",
            " [0.0 0.0 1.0 -1.7115038793306814 -1.4381784072687531]\n",
            " [0.0 1.0 0.0 -1.2755547779917342 -0.8912654918285229]\n",
            " [0.0 0.0 1.0 -0.1130238410878753 -0.253200423814921]\n",
            " [0.0 1.0 0.0 0.17760889313808945 6.632191985654332e-16]\n",
            " [1.0 0.0 0.0 -0.5489729424268225 -0.5266568815350361]\n",
            " [0.0 0.0 1.0 0.0 -1.0735697969752662]\n",
            " [1.0 0.0 0.0 1.3401398300419485 1.3875383225057696]\n",
            " [0.0 1.0 0.0 1.6307725642679132 1.7521469327992565]\n",
            " [1.0 0.0 0.0 -0.2583402082008577 0.29371249162530916]]\n"
          ]
        }
      ]
    },
    {
      "cell_type": "markdown",
      "metadata": {
        "id": "XMFYppqjLtsG"
      },
      "source": [
        "# **Step - 6** : Splitting the data into train and test."
      ]
    },
    {
      "cell_type": "code",
      "metadata": {
        "id": "ntWuSa1KL-pT"
      },
      "source": [
        "from sklearn.model_selection import train_test_split\n",
        "X_train, X_test, Y_train, Y_test = train_test_split(X,Y, test_size=0.2)"
      ],
      "execution_count": 59,
      "outputs": []
    }
  ]
}